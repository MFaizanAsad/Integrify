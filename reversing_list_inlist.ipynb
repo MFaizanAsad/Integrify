{
 "cells": [
  {
   "cell_type": "code",
   "execution_count": 16,
   "metadata": {},
   "outputs": [
    {
     "name": "stdout",
     "output_type": "stream",
     "text": [
      "[[899], [6, 9], 2, 1]\n"
     ]
    }
   ],
   "source": [
    "# creating a function to to change the revere any dinmension of list e.g 2d, 3d \n",
    "# check: pythontutor.com/visualize.html     \n",
    "def rev(arr):\n",
    "    if len(arr)==0:\n",
    "        return \n",
    "    if len(arr)==1:\n",
    "        if isinstance(arr[0],list):\n",
    "            return [rev(arr[0])]\n",
    "        else:\n",
    "            return arr\n",
    "    else:\n",
    "        return (rev(arr[1:])+rev(arr[:1]))\n",
    "\n",
    "    \n",
    "p = [1,2,[9,6],[899]]\n",
    "a1=rev(p)\n",
    "print(a1)"
   ]
  },
  {
   "cell_type": "code",
   "execution_count": 17,
   "metadata": {},
   "outputs": [
    {
     "name": "stdout",
     "output_type": "stream",
     "text": [
      "[[6, 5, 4], [3, 2, 1]]\n"
     ]
    }
   ],
   "source": [
    "# second method to reverse a list with all its elemtns also reverserd, let it be a list with in a list\n",
    "def rev(arr):\n",
    "   new_arr = []\n",
    "   for i in arr:\n",
    "       if isinstance(i,list):\n",
    "           new_arr.append(rev(i))\n",
    "       else:\n",
    "           new_arr.append(i)\n",
    "   new_arr.reverse()\n",
    "   return new_arr\n",
    "\n",
    "list1 = [1,2,3]\n",
    "list2 = [4,5,6]\n",
    "list2d = [list1, list2]\n",
    "\n",
    "a2 = rev(list2d)\n",
    "print(a2)"
   ]
  },
  {
   "cell_type": "code",
   "execution_count": null,
   "metadata": {},
   "outputs": [],
   "source": []
  }
 ],
 "metadata": {
  "kernelspec": {
   "display_name": "Python 3",
   "language": "python",
   "name": "python3"
  },
  "language_info": {
   "codemirror_mode": {
    "name": "ipython",
    "version": 3
   },
   "file_extension": ".py",
   "mimetype": "text/x-python",
   "name": "python",
   "nbconvert_exporter": "python",
   "pygments_lexer": "ipython3",
   "version": "3.7.3"
  }
 },
 "nbformat": 4,
 "nbformat_minor": 2
}
