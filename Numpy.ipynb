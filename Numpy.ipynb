{
 "cells": [
  {
   "cell_type": "code",
   "execution_count": 167,
   "metadata": {},
   "outputs": [
    {
     "name": "stdout",
     "output_type": "stream",
     "text": [
      "[1 2 3 4 5]\n",
      "[[1 2 3 4]\n",
      " [5 6 7 8]]\n",
      "[[1 2 3 4]\n",
      " [5 6 7 8]]\n"
     ]
    }
   ],
   "source": [
    "'''\n",
    "Task 4.1\n",
    "Creating Arrays\n",
    "'''\n",
    "from __future__ import print_function\n",
    "import numpy as np\n",
    "\n",
    "l= [1,2,3,4,5]\n",
    "# creating 1d array\n",
    "array1 = np.array(l)\n",
    "print(array1)\n",
    "\n",
    "# lists of list\n",
    "data= [range(1,5), range(5,9)]\n",
    "# creating a 2d array\n",
    "array2= np.array(data)\n",
    "# print(data)\n",
    "print(array2)\n",
    "\n",
    "# converting array back to list\n",
    "array2.tolist()\n",
    "\n",
    "#create special arrays\n",
    "np.zeros(10)\n",
    "np.zeros((3, 6))\n",
    "np.ones(10)\n",
    "# 0 to 1 (inclusive) with 5 points\n",
    "np.linspace(0,1,5)\n",
    "# # 10^0 to 10^3 (inclusive) with 4 points\n",
    "np.logspace(0,3,4)\n",
    "\n",
    "#arange is like  range, except it returns an array (not a list)\n",
    "int_array = np.arange(5)\n",
    "float_array = int_array.astype(float)\n",
    "print(array2)\n"
   ]
  },
  {
   "cell_type": "code",
   "execution_count": 21,
   "metadata": {},
   "outputs": [
    {
     "data": {
      "text/plain": [
       "(2, 4)"
      ]
     },
     "execution_count": 21,
     "metadata": {},
     "output_type": "execute_result"
    }
   ],
   "source": [
    "# Task 4.2 Examining arrays\n",
    "array1.dtype # float 64\n",
    "\n",
    "array2.dtype # int32\n",
    "# the following function will give the dimention of the array\n",
    "array2.ndim \n",
    "# the following function will give the dimension in (row, column)\n",
    "array2.shape # (2,4) - axis 0 is rows, axis 1 is columns\n"
   ]
  },
  {
   "cell_type": "code",
   "execution_count": 25,
   "metadata": {},
   "outputs": [
    {
     "name": "stdout",
     "output_type": "stream",
     "text": [
      "[[0 2]\n",
      " [1 3]]\n"
     ]
    },
    {
     "data": {
      "text/plain": [
       "array([[0, 2],\n",
       "       [1, 3]])"
      ]
     },
     "execution_count": 25,
     "metadata": {},
     "output_type": "execute_result"
    }
   ],
   "source": [
    "# Task 4.4 Stack arrays\n",
    "# stack flat arrays in columns\n",
    "a = np.array([0,1])\n",
    "b = np.array([2,3])\n",
    "\n",
    "# stack will put the two arrays in column , stack on top of eachother\n",
    "ab = np.stack((a,b)).T\n",
    "print(ab)\n",
    "\n",
    "# Another way of doing it\n",
    "\n",
    "np.hstack((a[:, None], b[:,None]))\n"
   ]
  },
  {
   "cell_type": "code",
   "execution_count": 39,
   "metadata": {},
   "outputs": [
    {
     "name": "stdout",
     "output_type": "stream",
     "text": [
      "[[0. 1. 2. 3. 4.]\n",
      " [5. 6. 7. 8. 9.]]\n"
     ]
    },
    {
     "data": {
      "text/plain": [
       "3.0"
      ]
     },
     "execution_count": 39,
     "metadata": {},
     "output_type": "execute_result"
    }
   ],
   "source": [
    "#4.5 Selection \n",
    "#single item\n",
    "\n",
    "arr = np.arange(10, dtype=float).reshape((2,5))\n",
    "print(arr)\n",
    "\n",
    "\n",
    "arr[0] # This will return the first element of the array\n",
    "arr[0,3] # it return the element of 0 row and column 3 (the row and column numbered from zero)\n",
    "# alternate method of doing the same thing as above\n",
    "arr[0][3]\n"
   ]
  },
  {
   "cell_type": "code",
   "execution_count": 72,
   "metadata": {},
   "outputs": [
    {
     "name": "stdout",
     "output_type": "stream",
     "text": [
      "[[0. 1. 2. 3. 4.]\n",
      " [5. 6. 7. 8. 9.]]\n",
      "[[2. 3. 4.]\n",
      " [7. 8. 9.]]\n"
     ]
    },
    {
     "data": {
      "text/plain": [
       "array([[1., 2., 3.],\n",
       "       [6., 7., 8.]])"
      ]
     },
     "execution_count": 72,
     "metadata": {},
     "output_type": "execute_result"
    }
   ],
   "source": [
    "# 4.5.1 Slicing\n",
    "#Syntax:start:stop: step with start (default 0) stop (default 1)\n",
    "\n",
    "#row 0: returns 1d array \n",
    "\n",
    "arr[0, :] \n",
    "\n",
    "# return an array consists of elements from \"0 column\" (1st count)\n",
    "arr[:, 0]\n",
    "\n",
    "# return an array consists of elements from \"2 column\" (3rd count)\n",
    "arr[:,2]\n",
    "\n",
    "\n",
    "# return an array from \"2 column\" (3rd count) onwards\n",
    "arr[:,2:]\n",
    "print(arr)\n",
    "print(arr[:,2:])\n",
    "\n",
    "# return an array from \"1 column\" (2ndcount) onwards\n",
    "''' array1 =\n",
    "[[1 2 3 4]\n",
    " [5 6 7 8]]'''\n",
    "array2 = arr[: , 1:4]\n",
    "array2\n",
    "\n"
   ]
  },
  {
   "cell_type": "code",
   "execution_count": 168,
   "metadata": {},
   "outputs": [
    {
     "name": "stdout",
     "output_type": "stream",
     "text": [
      "4.035967378638166\n"
     ]
    },
    {
     "data": {
      "text/plain": [
       "array([[0.00630595, 0.20303476, 0.76478993],\n",
       "       [0.55513384, 0.74358546, 0.93777808]])"
      ]
     },
     "execution_count": 168,
     "metadata": {},
     "output_type": "execute_result"
    }
   ],
   "source": [
    "#4.6 Vectorized Operations\n",
    "\n",
    "nums = np.arange(5)\n",
    "nums * 10                # multiply each by 10\n",
    "nums  = np.sqrt (nums) # square root of each element\n",
    "np.ceil(nums)         # also floor, rint (round the nearest int)\n",
    "np.isnan(nums)       # checks for NaN\n",
    "nums +np.arange(5)   # add element -wise\n",
    "np.maximum(nums, np.array([1, -2, 3, -4, 5])) # compare elemnt -wise\n",
    "\n",
    "# compare Euclidean distance between 2 vectors\n",
    "vec1 = np.random.randn(10) # creating an array of random floats\n",
    "vec2 = np.random.randn(10) \n",
    "dist = np.sqrt(np.sum((vec1-vec2)**2))\n",
    "print(dist)\n",
    "\n",
    "# math and stats\n",
    "rnd = np.random.randn(4, 2) # creating a random array 4X2\n",
    "rnd.mean()\n",
    "rnd.std()\n",
    "rnd.argmin()         # index of minimum element\n",
    "rnd.sum()\n",
    "rnd.sum(axis=0)      # sum of columns\n",
    "rnd.sum(axis=1)     # sum of rows\n",
    "\n",
    "# methods for boolean arrays\n",
    "\n",
    "(rnd > 0).sum()         # counts number of positive values\n",
    "(rnd > 0).any()         # checks if any value its True\n",
    "(rnd > 0).all()        # checks if all values are True\n",
    "\n",
    "# random numbers\n",
    "np.random.seed(12234)      # set the seed\n",
    "np.random.rand(2, 3)       # 2 X 3 matrix in [0, 1]\n",
    "np.random.randn(1)        # random normals (mean 0, sd 1)\n",
    "np.random.randint(0, 2, 10)  # 10 randomly picked 0 or 1\n",
    "\n",
    "\n"
   ]
  },
  {
   "cell_type": "code",
   "execution_count": 161,
   "metadata": {},
   "outputs": [
    {
     "name": "stdout",
     "output_type": "stream",
     "text": [
      "[[ 0.07889756 -0.40969141]\n",
      " [-1.44384363  0.51754543]\n",
      " [-2.39099691 -0.70984446]\n",
      " [-0.25910079 -0.51549174]]\n",
      "2\n",
      "2\n",
      "[[ 0.84706423  0.27261965]\n",
      " [-0.9432554   1.36279199]\n",
      " [-2.05684392 -0.08027676]\n",
      " [ 0.44967229  0.14822792]]\n"
     ]
    }
   ],
   "source": [
    "# task 4.8 Exercises\n",
    "# Given array\n",
    "new = np.random.randn(4, 2) #random normals in 4X2 array\n",
    "\n",
    "# for each column find the row index of the minimum value.\n",
    "\n",
    "print(new)\n",
    "# print(new[:, 0:1])\n",
    "# print(new[:, 1])\n",
    "\n",
    "print(new[:, 0:1].argmin())  \n",
    "print(new[:,1].argmin())\n",
    "\n",
    "# write a function standarize (x) that return an array whose columns are centered and scaled (by std-dev)\n",
    "#Totol time of the script: (o minutes 0.0007 seconds)\n",
    "# def standardize(new):\n",
    "def standardize():\n",
    "    std1= np.std(new)\n",
    "    mean1 = new.mean()\n",
    "    z= ((new)-mean1)/std1\n",
    "    print(z)\n",
    "standardize()\n",
    "\n",
    "    \n",
    "\n"
   ]
  },
  {
   "cell_type": "code",
   "execution_count": 176,
   "metadata": {},
   "outputs": [
    {
     "ename": "NameError",
     "evalue": "name 'StringIO' is not defined",
     "output_type": "error",
     "traceback": [
      "\u001b[1;31m---------------------------------------------------------------------------\u001b[0m",
      "\u001b[1;31mNameError\u001b[0m                                 Traceback (most recent call last)",
      "\u001b[1;32m<ipython-input-176-5e4e65090854>\u001b[0m in \u001b[0;36m<module>\u001b[1;34m\u001b[0m\n\u001b[0;32m      8\u001b[0m \u001b[1;33m\u001b[0m\u001b[0m\n\u001b[0;32m      9\u001b[0m \u001b[0mdata\u001b[0m \u001b[1;33m=\u001b[0m \u001b[1;34m\"1, 2, 3\\n4, 5, 6\"\u001b[0m\u001b[1;33m\u001b[0m\u001b[1;33m\u001b[0m\u001b[0m\n\u001b[1;32m---> 10\u001b[1;33m \u001b[0mnp\u001b[0m\u001b[1;33m.\u001b[0m\u001b[0mgenfromtxt\u001b[0m\u001b[1;33m(\u001b[0m\u001b[0mStringIO\u001b[0m\u001b[1;33m(\u001b[0m\u001b[0mdata\u001b[0m\u001b[1;33m)\u001b[0m\u001b[1;33m,\u001b[0m \u001b[0mdelimiter\u001b[0m\u001b[1;33m=\u001b[0m\u001b[1;34m\",\"\u001b[0m\u001b[1;33m)\u001b[0m\u001b[1;33m\u001b[0m\u001b[1;33m\u001b[0m\u001b[0m\n\u001b[0m",
      "\u001b[1;31mNameError\u001b[0m: name 'StringIO' is not defined"
     ]
    }
   ],
   "source": [
    "'''\n",
    "Lists of cammands that are useful and were not included in the exercise\n",
    "1. np.indices()\n",
    "Indices()  creates a set of arrays stacked as one higher dimession array, one per dimension with each representing variation in that dimension. \n",
    "2.np.cos(x[, out]) = ufunc ‘cos’) : This mathematical function helps user to calculate trignmetric cosine for all x(being the array elements)\n",
    "3.np.round_(arr, decimals = 0, out = None) : This mathematical function round an array to the given number of decimals.\n",
    "4.np.transpose, it changes the order of an array from (r,c) tp (c,r).\n",
    "5.np.divide(arr1, arr2) it divides one array to another\n",
    "\n",
    "'''\n",
    "\n",
    "data = \"1, 2, 3\\n4, 5, 6\"\n",
    "np.genfromtxt(StringIO(data), delimiter=\",\")"
   ]
  }
 ],
 "metadata": {
  "kernelspec": {
   "display_name": "Python 3",
   "language": "python",
   "name": "python3"
  },
  "language_info": {
   "codemirror_mode": {
    "name": "ipython",
    "version": 3
   },
   "file_extension": ".py",
   "mimetype": "text/x-python",
   "name": "python",
   "nbconvert_exporter": "python",
   "pygments_lexer": "ipython3",
   "version": "3.7.3"
  }
 },
 "nbformat": 4,
 "nbformat_minor": 2
}
