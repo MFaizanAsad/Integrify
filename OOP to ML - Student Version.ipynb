{
 "cells": [
  {
   "cell_type": "code",
   "execution_count": 1,
   "metadata": {
    "ExecuteTime": {
     "end_time": "2019-05-15T14:25:08.334088Z",
     "start_time": "2019-05-15T14:25:08.330629Z"
    }
   },
   "outputs": [],
   "source": [
    "import numpy as np"
   ]
  },
  {
   "cell_type": "markdown",
   "metadata": {},
   "source": [
    "## Defining the generic metrics class"
   ]
  },
  {
   "cell_type": "code",
   "execution_count": 2,
   "metadata": {
    "ExecuteTime": {
     "end_time": "2019-05-15T14:25:08.357613Z",
     "start_time": "2019-05-15T14:25:08.342547Z"
    },
    "code_folding": [
     0
    ]
   },
   "outputs": [],
   "source": [
    "class GeneralModelClass:\n",
    "    # Where k∗ is the numbers of parameters you're estimating INCLUDING an intercept. \n",
    "    #(The residual vector will exist in an n−k∗ dimensional linear space.)\n",
    "\n",
    "    # If you include an intercept term in a regression and k refers to the number of regressors\n",
    "    # not including the intercept then k∗=k+1.\n",
    "         \n",
    "    def sse(self):\n",
    "        '''returns sum of squared errors (model vs actual)'''\n",
    "        squared_errors = (self.predict(self.data) - self.target)**2# using target, predict and data, find the squared errors\n",
    "        self.sq_error_ = sum(squared_errors)# find the Sum of squared errors\n",
    "        return self.sq_error_\n",
    "        \n",
    "    def sst(self):\n",
    "        '''returns total sum of squared errors (actual vs avg(actual))'''\n",
    "        avg_y = np.mean(self.target)\n",
    "        squared_errors = (self.target - avg_y) ** 2\n",
    "        self.sst_ = np.sum(squared_errors)\n",
    "        return self.sst_\n",
    "    \n",
    "    def r_squared(self):\n",
    "        '''returns calculated value of r^2'''\n",
    "        self.r_sq_ = 1 - (self.sse()/self.sst()) # using SST and SSE, find the R-squared value\n",
    "        return self.r_sq_\n",
    "    \n",
    "    def adj_r_squared(self):\n",
    "        '''returns calculated value of adjusted r^2'''\n",
    "        self.adj_r_sq_ = 1 - (self.sse()/self._dfe) / (self.sst()/self._dft)\n",
    "        return self.adj_r_sq_\n",
    "    \n",
    "    def rmse(self):\n",
    "        '''returns calculated value of mse'''\n",
    "        # using predict, data and target, find the RMSE error\n",
    "        self.rmse_ = np.sqrt(sum((self.predict(self.data) - self.target)**2)/len(self.data)) # your code\n",
    "        return self.rmse_\n",
    "    \n",
    "    def pretty_print_stats(self):\n",
    "        '''returns report of statistics for a given model object'''\n",
    "        items = ( ('rmse:', self.rmse()), ('r^2:', self.r_squared()), \n",
    "                  ('adj_r^2:', self.adj_r_squared()))\n",
    "        for item in items:\n",
    "            print('{0:8} {1:.4f}'.format(item[0], item[1]))\n"
   ]
  },
  {
   "cell_type": "markdown",
   "metadata": {},
   "source": [
    "## Defining the Linear Regression Class"
   ]
  },
  {
   "cell_type": "code",
   "execution_count": 3,
   "metadata": {
    "ExecuteTime": {
     "end_time": "2019-05-15T14:25:08.379007Z",
     "start_time": "2019-05-15T14:25:08.365241Z"
    },
    "code_folding": [
     1,
     10
    ]
   },
   "outputs": [],
   "source": [
    "# only makes sense for Linear Regression https://stats.stackexchange.com/questions/23128/solving-for-regression-parameters-in-closed-form-vs-gradient-descent\n",
    "class LinearRegressionOwn(GeneralModelClass):\n",
    "    \n",
    "    \n",
    "    def __init__(self, fit_intercept=True):\n",
    "        self.coef_ = None\n",
    "        self.intercept_ = None\n",
    "        self._fit_intercept = fit_intercept\n",
    "          \n",
    "        \n",
    "    def fit(self, X, y):\n",
    "        \"\"\"\n",
    "        Fit model coefficients.\n",
    "\n",
    "        Arguments:\n",
    "        X: 1D or 2D numpy array \n",
    "        y: 1D numpy array\n",
    "        \"\"\"\n",
    "         #degrees of freedom population dep. variable variance -- this is total amount of degrees\n",
    "        self._dft = X.shape[0] - 1   \n",
    "        # degrees of freedom for the residuals\n",
    "        self._dfe = X.shape[0] - X.shape[1] - 1  # the more independent variables, the less adj_R-sq\n",
    "        \n",
    "        # training data & ground truth data\n",
    "        self.data = X\n",
    "        self.target = y\n",
    "                \n",
    "        # check if X is 1D or 2D array\n",
    "        if len(X.shape) == 1:\n",
    "            X = X.reshape(-1,1)\n",
    "            \n",
    "        # add bias if fit_intercept\n",
    "        if self._fit_intercept:\n",
    "            X = np.c_[np.ones(len(X)), X]# add the bias term inside here\n",
    "        \n",
    "        # closed form solution\n",
    "        xTx = np.dot(X.T, X)# using X transposed and X matrices, find the data covariance matrix (X.T ?operator? X)\n",
    "        inverse_xTx = np.linalg.inv(xTx) # find the inverse of the cov matrix, i.e. the precision matrix\n",
    "        xTy = np.dot(X.T, y)# find X.transposed times y using ?what? operator\n",
    "        coef = np.dot(inverse_xTx, xTy)\n",
    "        \n",
    "        # set attributes\n",
    "        if self._fit_intercept:\n",
    "            self.intercept_ = coef[0] # set the 0th coefficient as the intercept\n",
    "            self.coef_ = coef[1:]# the remaining coefficients go here\n",
    "        else:\n",
    "            self.intercept_ = 0 # otherwise set intercept to be 0\n",
    "            self.coef_ = coef\n",
    "            \n",
    "    def predict(self, X):\n",
    "        \"\"\"Output model prediction.\n",
    "\n",
    "        Arguments:\n",
    "        X: 1D or 2D numpy array \n",
    "        \"\"\"\n",
    "        # check if X is 1D or 2D array\n",
    "        if len(X.shape) == 1:\n",
    "            X = X.reshape(-1,1)  # force 1D array into a column vector\n",
    "        return (self.intercept_ + np.dot(X, self.coef_)) #using intercept, coefficients and X and linear regression formula, find the predictions\n",
    "    \n",
    "    def __str__(self):\n",
    "        return \"Results: b: {}, m: {}, Final Total error: {}\".format(round(self.b, 2), round(self.m, 2), round(self.compute_error(), 2))"
   ]
  },
  {
   "cell_type": "markdown",
   "metadata": {},
   "source": [
    "## The Problem : Housing Price Prediction"
   ]
  },
  {
   "cell_type": "code",
   "execution_count": 4,
   "metadata": {
    "ExecuteTime": {
     "end_time": "2019-05-15T14:25:08.410264Z",
     "start_time": "2019-05-15T14:25:08.380806Z"
    }
   },
   "outputs": [
    {
     "data": {
      "text/html": [
       "<div>\n",
       "<style scoped>\n",
       "    .dataframe tbody tr th:only-of-type {\n",
       "        vertical-align: middle;\n",
       "    }\n",
       "\n",
       "    .dataframe tbody tr th {\n",
       "        vertical-align: top;\n",
       "    }\n",
       "\n",
       "    .dataframe thead th {\n",
       "        text-align: right;\n",
       "    }\n",
       "</style>\n",
       "<table border=\"1\" class=\"dataframe\">\n",
       "  <thead>\n",
       "    <tr style=\"text-align: right;\">\n",
       "      <th></th>\n",
       "      <th>CRIM</th>\n",
       "      <th>ZN</th>\n",
       "      <th>INDUS</th>\n",
       "      <th>CHAS</th>\n",
       "      <th>NOX</th>\n",
       "      <th>RM</th>\n",
       "      <th>AGE</th>\n",
       "      <th>DIS</th>\n",
       "      <th>RAD</th>\n",
       "      <th>TAX</th>\n",
       "      <th>PTRATIO</th>\n",
       "      <th>B</th>\n",
       "      <th>LSTAT</th>\n",
       "      <th>MEDV</th>\n",
       "    </tr>\n",
       "  </thead>\n",
       "  <tbody>\n",
       "    <tr>\n",
       "      <th>0</th>\n",
       "      <td>0.00632</td>\n",
       "      <td>18.0</td>\n",
       "      <td>2.31</td>\n",
       "      <td>0.0</td>\n",
       "      <td>0.538</td>\n",
       "      <td>6.575</td>\n",
       "      <td>65.2</td>\n",
       "      <td>4.0900</td>\n",
       "      <td>1.0</td>\n",
       "      <td>296.0</td>\n",
       "      <td>15.3</td>\n",
       "      <td>396.90</td>\n",
       "      <td>4.98</td>\n",
       "      <td>24.0</td>\n",
       "    </tr>\n",
       "    <tr>\n",
       "      <th>1</th>\n",
       "      <td>0.02731</td>\n",
       "      <td>0.0</td>\n",
       "      <td>7.07</td>\n",
       "      <td>0.0</td>\n",
       "      <td>0.469</td>\n",
       "      <td>6.421</td>\n",
       "      <td>78.9</td>\n",
       "      <td>4.9671</td>\n",
       "      <td>2.0</td>\n",
       "      <td>242.0</td>\n",
       "      <td>17.8</td>\n",
       "      <td>396.90</td>\n",
       "      <td>9.14</td>\n",
       "      <td>21.6</td>\n",
       "    </tr>\n",
       "    <tr>\n",
       "      <th>2</th>\n",
       "      <td>0.02729</td>\n",
       "      <td>0.0</td>\n",
       "      <td>7.07</td>\n",
       "      <td>0.0</td>\n",
       "      <td>0.469</td>\n",
       "      <td>7.185</td>\n",
       "      <td>61.1</td>\n",
       "      <td>4.9671</td>\n",
       "      <td>2.0</td>\n",
       "      <td>242.0</td>\n",
       "      <td>17.8</td>\n",
       "      <td>392.83</td>\n",
       "      <td>4.03</td>\n",
       "      <td>34.7</td>\n",
       "    </tr>\n",
       "    <tr>\n",
       "      <th>3</th>\n",
       "      <td>0.03237</td>\n",
       "      <td>0.0</td>\n",
       "      <td>2.18</td>\n",
       "      <td>0.0</td>\n",
       "      <td>0.458</td>\n",
       "      <td>6.998</td>\n",
       "      <td>45.8</td>\n",
       "      <td>6.0622</td>\n",
       "      <td>3.0</td>\n",
       "      <td>222.0</td>\n",
       "      <td>18.7</td>\n",
       "      <td>394.63</td>\n",
       "      <td>2.94</td>\n",
       "      <td>33.4</td>\n",
       "    </tr>\n",
       "    <tr>\n",
       "      <th>4</th>\n",
       "      <td>0.06905</td>\n",
       "      <td>0.0</td>\n",
       "      <td>2.18</td>\n",
       "      <td>0.0</td>\n",
       "      <td>0.458</td>\n",
       "      <td>7.147</td>\n",
       "      <td>54.2</td>\n",
       "      <td>6.0622</td>\n",
       "      <td>3.0</td>\n",
       "      <td>222.0</td>\n",
       "      <td>18.7</td>\n",
       "      <td>396.90</td>\n",
       "      <td>5.33</td>\n",
       "      <td>36.2</td>\n",
       "    </tr>\n",
       "  </tbody>\n",
       "</table>\n",
       "</div>"
      ],
      "text/plain": [
       "      CRIM    ZN  INDUS  CHAS    NOX     RM   AGE     DIS  RAD    TAX  \\\n",
       "0  0.00632  18.0   2.31   0.0  0.538  6.575  65.2  4.0900  1.0  296.0   \n",
       "1  0.02731   0.0   7.07   0.0  0.469  6.421  78.9  4.9671  2.0  242.0   \n",
       "2  0.02729   0.0   7.07   0.0  0.469  7.185  61.1  4.9671  2.0  242.0   \n",
       "3  0.03237   0.0   2.18   0.0  0.458  6.998  45.8  6.0622  3.0  222.0   \n",
       "4  0.06905   0.0   2.18   0.0  0.458  7.147  54.2  6.0622  3.0  222.0   \n",
       "\n",
       "   PTRATIO       B  LSTAT  MEDV  \n",
       "0     15.3  396.90   4.98  24.0  \n",
       "1     17.8  396.90   9.14  21.6  \n",
       "2     17.8  392.83   4.03  34.7  \n",
       "3     18.7  394.63   2.94  33.4  \n",
       "4     18.7  396.90   5.33  36.2  "
      ]
     },
     "execution_count": 4,
     "metadata": {},
     "output_type": "execute_result"
    }
   ],
   "source": [
    "from sklearn.datasets import load_boston\n",
    "import pandas as pd\n",
    "boston_dataset = load_boston()\n",
    "boston = pd.DataFrame(boston_dataset.data, columns=boston_dataset.feature_names)\n",
    "boston['MEDV'] = boston_dataset.target\n",
    "boston.head()"
   ]
  },
  {
   "cell_type": "markdown",
   "metadata": {},
   "source": [
    "### What is in the Dataset?"
   ]
  },
  {
   "cell_type": "code",
   "execution_count": 5,
   "metadata": {
    "ExecuteTime": {
     "end_time": "2019-05-15T14:25:08.415234Z",
     "start_time": "2019-05-15T14:25:08.411896Z"
    }
   },
   "outputs": [
    {
     "name": "stdout",
     "output_type": "stream",
     "text": [
      ".. _boston_dataset:\n",
      "\n",
      "Boston house prices dataset\n",
      "---------------------------\n",
      "\n",
      "**Data Set Characteristics:**  \n",
      "\n",
      "    :Number of Instances: 506 \n",
      "\n",
      "    :Number of Attributes: 13 numeric/categorical predictive. Median Value (attribute 14) is usually the target.\n",
      "\n",
      "    :Attribute Information (in order):\n",
      "        - CRIM     per capita crime rate by town\n",
      "        - ZN       proportion of residential land zoned for lots over 25,000 sq.ft.\n",
      "        - INDUS    proportion of non-retail business acres per town\n",
      "        - CHAS     Charles River dummy variable (= 1 if tract bounds river; 0 otherwise)\n",
      "        - NOX      nitric oxides concentration (parts per 10 million)\n",
      "        - RM       average number of rooms per dwelling\n",
      "        - AGE      proportion of owner-occupied units built prior to 1940\n",
      "        - DIS      weighted distances to five Boston employment centres\n",
      "        - RAD      index of accessibility to radial highways\n",
      "        - TAX      full-value property-tax rate per $10,000\n",
      "        - PTRATIO  pupil-teacher ratio by town\n",
      "        - B        1000(Bk - 0.63)^2 where Bk is the proportion of blacks by town\n",
      "        - LSTAT    % lower status of the population\n",
      "        - MEDV     Median value of owner-occupied homes in $1000's\n",
      "\n",
      "    :Missing Attribute Values: None\n",
      "\n",
      "    :Creator: Harrison, D. and Rubinfeld, D.L.\n",
      "\n",
      "This is a copy of UCI ML housing dataset.\n",
      "https://archive.ics.uci.edu/ml/machine-learning-databases/housing/\n",
      "\n",
      "\n",
      "This dataset was taken from the StatLib library which is maintained at Carnegie Mellon University.\n",
      "\n",
      "The Boston house-price data of Harrison, D. and Rubinfeld, D.L. 'Hedonic\n",
      "prices and the demand for clean air', J. Environ. Economics & Management,\n",
      "vol.5, 81-102, 1978.   Used in Belsley, Kuh & Welsch, 'Regression diagnostics\n",
      "...', Wiley, 1980.   N.B. Various transformations are used in the table on\n",
      "pages 244-261 of the latter.\n",
      "\n",
      "The Boston house-price data has been used in many machine learning papers that address regression\n",
      "problems.   \n",
      "     \n",
      ".. topic:: References\n",
      "\n",
      "   - Belsley, Kuh & Welsch, 'Regression diagnostics: Identifying Influential Data and Sources of Collinearity', Wiley, 1980. 244-261.\n",
      "   - Quinlan,R. (1993). Combining Instance-Based and Model-Based Learning. In Proceedings on the Tenth International Conference of Machine Learning, 236-243, University of Massachusetts, Amherst. Morgan Kaufmann.\n",
      "\n"
     ]
    }
   ],
   "source": [
    "print(boston_dataset.DESCR)"
   ]
  },
  {
   "cell_type": "code",
   "execution_count": 6,
   "metadata": {
    "ExecuteTime": {
     "end_time": "2019-05-15T14:25:08.422409Z",
     "start_time": "2019-05-15T14:25:08.416771Z"
    }
   },
   "outputs": [
    {
     "data": {
      "text/plain": [
       "CRIM       0\n",
       "ZN         0\n",
       "INDUS      0\n",
       "CHAS       0\n",
       "NOX        0\n",
       "RM         0\n",
       "AGE        0\n",
       "DIS        0\n",
       "RAD        0\n",
       "TAX        0\n",
       "PTRATIO    0\n",
       "B          0\n",
       "LSTAT      0\n",
       "MEDV       0\n",
       "dtype: int64"
      ]
     },
     "execution_count": 6,
     "metadata": {},
     "output_type": "execute_result"
    }
   ],
   "source": [
    "boston.isna().sum() # find the sum of null values for each variable"
   ]
  },
  {
   "cell_type": "markdown",
   "metadata": {},
   "source": [
    "### Visualizing  The Dependent Variable"
   ]
  },
  {
   "cell_type": "code",
   "execution_count": 7,
   "metadata": {
    "ExecuteTime": {
     "end_time": "2019-05-15T14:25:08.636356Z",
     "start_time": "2019-05-15T14:25:08.424085Z"
    }
   },
   "outputs": [],
   "source": [
    "import seaborn as sns\n",
    "import matplotlib.pyplot as plt\n",
    "sns.set(rc={'figure.figsize':(11.7,8.27)})\n",
    "sns.distplot(boston['CRIM'], kde=True,hist=True, bins=30);# visualize the distribution of the dependent variable (KDE + 30-bin histogram)"
   ]
  },
  {
   "cell_type": "markdown",
   "metadata": {},
   "source": [
    "## Selecting Features Based on Correlation"
   ]
  },
  {
   "cell_type": "code",
   "execution_count": 8,
   "metadata": {
    "ExecuteTime": {
     "end_time": "2019-05-15T14:25:09.124825Z",
     "start_time": "2019-05-15T14:25:08.638074Z"
    },
    "code_folding": [
     14
    ]
   },
   "outputs": [
    {
     "name": "stdout",
     "output_type": "stream",
     "text": [
      "          B  CHAS      CRIM  INDUS  LSTAT  PTRATIO   RAD     RM    ZN\n",
      "0    396.90   0.0   0.00632   2.31   4.98     15.3   1.0  6.575  18.0\n",
      "1    396.90   0.0   0.02731   7.07   9.14     17.8   2.0  6.421   0.0\n",
      "2    392.83   0.0   0.02729   7.07   4.03     17.8   2.0  7.185   0.0\n",
      "3    394.63   0.0   0.03237   2.18   2.94     18.7   3.0  6.998   0.0\n",
      "4    396.90   0.0   0.06905   2.18   5.33     18.7   3.0  7.147   0.0\n",
      "5    394.12   0.0   0.02985   2.18   5.21     18.7   3.0  6.430   0.0\n",
      "6    395.60   0.0   0.08829   7.87  12.43     15.2   5.0  6.012  12.5\n",
      "7    396.90   0.0   0.14455   7.87  19.15     15.2   5.0  6.172  12.5\n",
      "8    386.63   0.0   0.21124   7.87  29.93     15.2   5.0  5.631  12.5\n",
      "9    386.71   0.0   0.17004   7.87  17.10     15.2   5.0  6.004  12.5\n",
      "10   392.52   0.0   0.22489   7.87  20.45     15.2   5.0  6.377  12.5\n",
      "11   396.90   0.0   0.11747   7.87  13.27     15.2   5.0  6.009  12.5\n",
      "12   390.50   0.0   0.09378   7.87  15.71     15.2   5.0  5.889  12.5\n",
      "13   396.90   0.0   0.62976   8.14   8.26     21.0   4.0  5.949   0.0\n",
      "14   380.02   0.0   0.63796   8.14  10.26     21.0   4.0  6.096   0.0\n",
      "15   395.62   0.0   0.62739   8.14   8.47     21.0   4.0  5.834   0.0\n",
      "16   386.85   0.0   1.05393   8.14   6.58     21.0   4.0  5.935   0.0\n",
      "17   386.75   0.0   0.78420   8.14  14.67     21.0   4.0  5.990   0.0\n",
      "18   288.99   0.0   0.80271   8.14  11.69     21.0   4.0  5.456   0.0\n",
      "19   390.95   0.0   0.72580   8.14  11.28     21.0   4.0  5.727   0.0\n",
      "20   376.57   0.0   1.25179   8.14  21.02     21.0   4.0  5.570   0.0\n",
      "21   392.53   0.0   0.85204   8.14  13.83     21.0   4.0  5.965   0.0\n",
      "22   396.90   0.0   1.23247   8.14  18.72     21.0   4.0  6.142   0.0\n",
      "23   394.54   0.0   0.98843   8.14  19.88     21.0   4.0  5.813   0.0\n",
      "24   394.33   0.0   0.75026   8.14  16.30     21.0   4.0  5.924   0.0\n",
      "25   303.42   0.0   0.84054   8.14  16.51     21.0   4.0  5.599   0.0\n",
      "26   376.88   0.0   0.67191   8.14  14.81     21.0   4.0  5.813   0.0\n",
      "27   306.38   0.0   0.95577   8.14  17.28     21.0   4.0  6.047   0.0\n",
      "28   387.94   0.0   0.77299   8.14  12.80     21.0   4.0  6.495   0.0\n",
      "29   380.23   0.0   1.00245   8.14  11.98     21.0   4.0  6.674   0.0\n",
      "..      ...   ...       ...    ...    ...      ...   ...    ...   ...\n",
      "476  396.21   0.0   4.87141  18.10  18.68     20.2  24.0  6.484   0.0\n",
      "477  349.48   0.0  15.02340  18.10  24.91     20.2  24.0  5.304   0.0\n",
      "478  379.70   0.0  10.23300  18.10  18.03     20.2  24.0  6.185   0.0\n",
      "479  383.32   0.0  14.33370  18.10  13.11     20.2  24.0  6.229   0.0\n",
      "480  396.90   0.0   5.82401  18.10  10.74     20.2  24.0  6.242   0.0\n",
      "481  393.07   0.0   5.70818  18.10   7.74     20.2  24.0  6.750   0.0\n",
      "482  395.28   0.0   5.73116  18.10   7.01     20.2  24.0  7.061   0.0\n",
      "483  392.92   0.0   2.81838  18.10  10.42     20.2  24.0  5.762   0.0\n",
      "484  370.73   0.0   2.37857  18.10  13.34     20.2  24.0  5.871   0.0\n",
      "485  388.62   0.0   3.67367  18.10  10.58     20.2  24.0  6.312   0.0\n",
      "486  392.68   0.0   5.69175  18.10  14.98     20.2  24.0  6.114   0.0\n",
      "487  388.22   0.0   4.83567  18.10  11.45     20.2  24.0  5.905   0.0\n",
      "488  395.09   0.0   0.15086  27.74  18.06     20.1   4.0  5.454   0.0\n",
      "489  344.05   0.0   0.18337  27.74  23.97     20.1   4.0  5.414   0.0\n",
      "490  318.43   0.0   0.20746  27.74  29.68     20.1   4.0  5.093   0.0\n",
      "491  390.11   0.0   0.10574  27.74  18.07     20.1   4.0  5.983   0.0\n",
      "492  396.90   0.0   0.11132  27.74  13.35     20.1   4.0  5.983   0.0\n",
      "493  396.90   0.0   0.17331   9.69  12.01     19.2   6.0  5.707   0.0\n",
      "494  396.90   0.0   0.27957   9.69  13.59     19.2   6.0  5.926   0.0\n",
      "495  393.29   0.0   0.17899   9.69  17.60     19.2   6.0  5.670   0.0\n",
      "496  396.90   0.0   0.28960   9.69  21.14     19.2   6.0  5.390   0.0\n",
      "497  396.90   0.0   0.26838   9.69  14.10     19.2   6.0  5.794   0.0\n",
      "498  396.90   0.0   0.23912   9.69  12.92     19.2   6.0  6.019   0.0\n",
      "499  395.77   0.0   0.17783   9.69  15.10     19.2   6.0  5.569   0.0\n",
      "500  396.90   0.0   0.22438   9.69  14.33     19.2   6.0  6.027   0.0\n",
      "501  391.99   0.0   0.06263  11.93   9.67     21.0   1.0  6.593   0.0\n",
      "502  396.90   0.0   0.04527  11.93   9.08     21.0   1.0  6.120   0.0\n",
      "503  396.90   0.0   0.06076  11.93   5.64     21.0   1.0  6.976   0.0\n",
      "504  393.45   0.0   0.10959  11.93   6.48     21.0   1.0  6.794   0.0\n",
      "505  396.90   0.0   0.04741  11.93   7.88     21.0   1.0  6.030   0.0\n",
      "\n",
      "[506 rows x 9 columns]\n"
     ]
    },
    {
     "data": {
      "image/png": "[encoded data removed]",
      "text/plain": [
       "<Figure size 720x720 with 2 Axes>"
      ]
     },
     "metadata": {
      "needs_background": "light"
     },
     "output_type": "display_data"
    }
   ],
   "source": [
    "def doCorrelationReduction(corr_matrix = boston.corr(), original_data = boston, corr_thr=0.7):\n",
    "    \"\"\"Method to  select only the data with features that have low correlations between themselves\"\"\"\n",
    "    import numpy as np\n",
    "    corr_matrix_abs = corr_matrix.abs()\n",
    "    upper = corr_matrix_abs.where(\n",
    "        np.triu(np.ones(corr_matrix.shape), k=1).astype(np.bool))  # # Select upper triangle of correlation matrix\n",
    "    # # Find index of feature columns with correlation greater than threshold\n",
    "    #to_drop = [i for i in corr_matrix_abs.loc if(corr_matrix_abs.loc[corr_matrix_abs[i]].idxmax() > corr_thr)]     \n",
    "    to_drop = [i for i in upper.columns if(upper[i].max()>corr_thr)]\n",
    "\n",
    "    # [inside the list, using upper.columns, select any column (name) that has higher correlation than corr_thr value]\n",
    "    low_cor_data = boston[boston.columns.difference(to_drop)]\n",
    "    # using the difference operator on the original data dataframe columns, subtract the to_drop columns\n",
    "    \n",
    "    return low_cor_data\n",
    "\n",
    "def heatMap(df, mirror=False):\n",
    "\n",
    "   # Create Correlation df\n",
    "   corr = df.corr()\n",
    "   # Plot figsize\n",
    "   fig, ax = plt.subplots(figsize=(10, 10))\n",
    "   # Generate Color Map\n",
    "   colormap = sns.diverging_palette(220, 10, as_cmap=True)\n",
    "   \n",
    "   if mirror == True:\n",
    "      #Generate Heat Map, allow annotations and place floats in map\n",
    "      sns.heatmap(corr, cmap=colormap, annot=True, fmt=\".2f\")\n",
    "      #Apply xticks\n",
    "      plt.xticks(range(len(corr.columns)), corr.columns);\n",
    "      #Apply yticks\n",
    "      plt.yticks(range(len(corr.columns)), corr.columns)\n",
    "      #show plot\n",
    "\n",
    "   else:\n",
    "      # Drop self-correlations\n",
    "      dropSelf = np.zeros_like(corr)\n",
    "      dropSelf[np.triu_indices_from(dropSelf)] = True\n",
    "      # Generate Color Map\n",
    "      colormap = sns.diverging_palette(220, 10, as_cmap=True)\n",
    "      # Generate Heat Map, allow annotations and place floats in map\n",
    "      sns.heatmap(corr, cmap=colormap, annot=True, fmt=\".2f\", mask=dropSelf)\n",
    "      # Apply xticks\n",
    "      plt.xticks(range(len(corr.columns)), corr.columns);\n",
    "      # Apply yticks\n",
    "      plt.yticks(range(len(corr.columns)), corr.columns)\n",
    "   # show plot\n",
    "   plt.show()\n",
    "\n",
    "print(doCorrelationReduction())\n",
    "heatMap(df=boston)\n",
    "boston_corr_reduced = doCorrelationReduction()"
   ]
  },
  {
   "cell_type": "markdown",
   "metadata": {},
   "source": [
    "### Notice Any Dimensionality Reduction?"
   ]
  },
  {
   "cell_type": "code",
   "execution_count": 9,
   "metadata": {
    "ExecuteTime": {
     "end_time": "2019-05-15T14:25:09.479990Z",
     "start_time": "2019-05-15T14:25:09.127226Z"
    }
   },
   "outputs": [
    {
     "data": {
      "image/png": "[encoded data removed]",
      "text/plain": [
       "<Figure size 720x720 with 2 Axes>"
      ]
     },
     "metadata": {
      "needs_background": "light"
     },
     "output_type": "display_data"
    }
   ],
   "source": [
    "heatMap(df=boston_corr_reduced)\n",
    "#boston_corr_reduced.head()"
   ]
  },
  {
   "cell_type": "code",
   "execution_count": 10,
   "metadata": {
    "ExecuteTime": {
     "end_time": "2019-05-15T14:25:09.766742Z",
     "start_time": "2019-05-15T14:25:09.481905Z"
    }
   },
   "outputs": [
    {
     "data": {
      "image/png": "[encoded data removed]",
      "text/plain": [
       "<Figure size 1440x360 with 7 Axes>"
      ]
     },
     "metadata": {
      "needs_background": "light"
     },
     "output_type": "display_data"
    }
   ],
   "source": [
    "plt.figure(figsize=(20, 5))\n",
    "\n",
    "features = ['B', 'CHAS', 'INDUS', 'LSTAT', 'PTRATIO', 'RAD', 'ZN']\n",
    "target = boston['CRIM']\n",
    "\n",
    "for i, col in enumerate(features):\n",
    "    plt.subplot(1, len(features) , i+1)\n",
    "    x = boston[col]\n",
    "    y = target\n",
    "    plt.scatter(x, y, marker='o')\n",
    "    plt.title(col)\n",
    "    plt.xlabel(col)\n",
    "    plt.ylabel('CRIM')"
   ]
  },
  {
   "cell_type": "markdown",
   "metadata": {},
   "source": [
    "## Preparing Data for Machine Learning"
   ]
  },
  {
   "cell_type": "code",
   "execution_count": 11,
   "metadata": {
    "ExecuteTime": {
     "end_time": "2019-05-15T14:25:09.784679Z",
     "start_time": "2019-05-15T14:25:09.768170Z"
    }
   },
   "outputs": [
    {
     "name": "stdout",
     "output_type": "stream",
     "text": [
      "(404, 2)\n",
      "(102, 2)\n",
      "(404,)\n",
      "(102,)\n"
     ]
    }
   ],
   "source": [
    "X = pd.DataFrame(np.c_[boston['LSTAT'], boston['RM']], columns = ['LSTAT','RM'])\n",
    "Y = boston['CRIM']\n",
    "from sklearn.model_selection import train_test_split\n",
    "X_train, X_test, Y_train, Y_test = train_test_split(X, Y, test_size = 0.2, random_state=5)\n",
    "print(X_train.shape)\n",
    "print(X_test.shape)\n",
    "print(Y_train.shape)\n",
    "print(Y_test.shape)"
   ]
  },
  {
   "cell_type": "code",
   "execution_count": 12,
   "metadata": {
    "ExecuteTime": {
     "end_time": "2019-05-15T14:25:38.639019Z",
     "start_time": "2019-05-15T14:25:38.628474Z"
    }
   },
   "outputs": [
    {
     "ename": "NameError",
     "evalue": "name 'LinearRegression' is not defined",
     "output_type": "error",
     "traceback": [
      "\u001b[0;31m---------------------------------------------------------------------------\u001b[0m",
      "\u001b[0;31mNameError\u001b[0m                                 Traceback (most recent call last)",
      "\u001b[0;32m<ipython-input-12-2f32e6585ee8>\u001b[0m in \u001b[0;36m<module>\u001b[0;34m\u001b[0m\n\u001b[1;32m      1\u001b[0m \u001b[0;31m# importlib.reload(mymodule), # https://ipython.org/ipython-doc/3/config/extensions/autoreload.html\u001b[0m\u001b[0;34m\u001b[0m\u001b[0;34m\u001b[0m\u001b[0;34m\u001b[0m\u001b[0m\n\u001b[1;32m      2\u001b[0m \u001b[0mgeneral_model\u001b[0m \u001b[0;34m=\u001b[0m \u001b[0mGeneralModelClass\u001b[0m\u001b[0;34m(\u001b[0m\u001b[0;34m)\u001b[0m\u001b[0;34m\u001b[0m\u001b[0;34m\u001b[0m\u001b[0m\n\u001b[0;32m----> 3\u001b[0;31m \u001b[0mlinreg_model\u001b[0m \u001b[0;34m=\u001b[0m \u001b[0mLinearRegression\u001b[0m\u001b[0;34m(\u001b[0m\u001b[0mgeneral_model\u001b[0m\u001b[0;34m)\u001b[0m\u001b[0;34m\u001b[0m\u001b[0;34m\u001b[0m\u001b[0m\n\u001b[0m\u001b[1;32m      4\u001b[0m \u001b[0mlinreg_model\u001b[0m\u001b[0;34m.\u001b[0m\u001b[0m__dict__\u001b[0m\u001b[0;34m\u001b[0m\u001b[0;34m\u001b[0m\u001b[0m\n\u001b[1;32m      5\u001b[0m \u001b[0mlinreg_model\u001b[0m\u001b[0;34m.\u001b[0m\u001b[0mfit\u001b[0m\u001b[0;34m(\u001b[0m\u001b[0mX\u001b[0m\u001b[0;34m=\u001b[0m\u001b[0mX_train\u001b[0m\u001b[0;34m,\u001b[0m\u001b[0my\u001b[0m\u001b[0;34m=\u001b[0m\u001b[0mY_train\u001b[0m\u001b[0;34m)\u001b[0m\u001b[0;34m\u001b[0m\u001b[0;34m\u001b[0m\u001b[0m\n",
      "\u001b[0;31mNameError\u001b[0m: name 'LinearRegression' is not defined"
     ]
    }
   ],
   "source": [
    "# importlib.reload(mymodule), # https://ipython.org/ipython-doc/3/config/extensions/autoreload.html\n",
    "general_model = GeneralModelClass()\n",
    "linreg_model = LinearRegression(general_model)\n",
    "linreg_model.__dict__\n",
    "linreg_model.fit(X=X_train,y=Y_train)\n",
    "linreg_model.pretty_print_stats()"
   ]
  },
  {
   "cell_type": "code",
   "execution_count": null,
   "metadata": {
    "ExecuteTime": {
     "end_time": "2019-05-15T14:25:09.808868Z",
     "start_time": "2019-05-15T14:25:08.470Z"
    }
   },
   "outputs": [],
   "source": [
    "import inspect\n",
    "lines = inspect.getsource(linreg_model.pretty_print_stats)\n",
    "print(lines)"
   ]
  },
  {
   "cell_type": "markdown",
   "metadata": {},
   "source": [
    "## Points to remember:\n",
    "\n",
    "**make sure if you add features that you transform both train and test when you transform your data**\n"
   ]
  },
  {
   "cell_type": "markdown",
   "metadata": {},
   "source": [
    "You can implement linear regression in Python relatively easily by using the package statsmodels as well. Typically, this is desirable when there is a need for more detailed results."
   ]
  },
  {
   "cell_type": "code",
   "execution_count": null,
   "metadata": {
    "ExecuteTime": {
     "end_time": "2019-05-15T14:38:17.715632Z",
     "start_time": "2019-05-15T14:38:17.683082Z"
    }
   },
   "outputs": [],
   "source": [
    "import statsmodels.api as sm\n",
    "X_constant_added = sm.add_constant(X)\n",
    "model = sm.OLS(y, exog=X_constant_added)\n",
    "results_statsmodel = model.fit()\n",
    "print(results_statsmodel.summary())\n",
    "print('coefficient of determination:', results_statsmodel.rsquared)\n",
    "print('adjusted coefficient of determination:', results_statsmodel.rsquared_adj)\n",
    "print('regression coefficients:', results_statsmodel.params)"
   ]
  },
  {
   "cell_type": "markdown",
   "metadata": {},
   "source": [
    "## Task : Multiple Regression Comparison with 3 Different Libraries\n",
    "\n",
    "In this task, your task is to predict the crime rate in Boston, using multiple different features.\n",
    "**Split the Boston housing dataset into training and test sets using Scikit-learn train-test split function.**\n",
    "\n",
    "- 0.0 Are the features linearly independent of each other? Show this programmatically.\n",
    "- 0.1 Are the assumptions for linear regression fulfilled?\n",
    "\n",
    "(https://towardsdatascience.com/verifying-the-assumptions-of-linear-regression-in-python-and-r-f4cd2907d4c0\n",
    "\n",
    "\n",
    "In the next steps, we will look at some concrete models. **Remember to measure both the training and prediction times of your runs.**\n",
    "\n",
    "- 1.0 Define a multiple linear regression model in Scikit-Learn with all features\n",
    "- 1.1 Define a multiple linear regression model in Scikit-Learn with low correlated features\n",
    "\n",
    "\n",
    "- 3.0 Define a multiple linear regression model in statsmodels with all features\n",
    "- 3.1  Define a multiple linear regression model in statsmodels with low correlated features\n",
    "\n",
    "\n",
    "\n",
    "\n",
    "- 5. Remember that the training error is not a good metric for evaluation how well a model generalizes. That's why you should now compare the results by MSE achieved on the test set. \n",
    "\n",
    "- Which model generalizes the best?\n",
    "- Did you see any significant improvement in generalization by eliminating features that are highly correlated to others?\n",
    "- Was there any considerable speed differences between the runtimes of the model? Did you use GPU or not?\n",
    "\n",
    "\n",
    "\n",
    "### BONUS POINT QUESTIONS (+1.5 %):\n",
    "\n",
    "- 2.0 Define a multiple polynomial regression model in Scikit-Learn with all features\n",
    "- 2.1 Define a multiple polynomial regression model in Scikit-Learn with low correlated features\n",
    "\n",
    "- 4.0 Define a multiple linear regression model in Pytorch with all features\n",
    "- 4.1 Define a multiple linear regression model in Pytorch with low correlated features\n",
    "\n",
    "- Use Bayesian Feature Selection (refer to the appropriate method in SkLearn or Lasso to Select the best performing features).\n",
    "\n",
    "*Include the analysis points given before also for these models.*"
   ]
  },
  {
   "cell_type": "code",
   "execution_count": null,
   "metadata": {},
   "outputs": [],
   "source": [
    "y = boston['CRIM']\n",
    "X = boston.drop('CRIM', axis=1)\n",
    "X_Train, X_Test, Y_Train, Y_Test = train_test_split(X, y)\n",
    "X_constant = sm.add_constant(X)\n",
    "lin_reg = sm.OLS(y,X_constant).fit()\n",
    "lin_reg.summary()"
   ]
  },
  {
   "cell_type": "code",
   "execution_count": null,
   "metadata": {},
   "outputs": [],
   "source": [
    "def linearity_test(model, y):\n",
    "    '''\n",
    "    Function for visually inspecting the assumption of linearity in a linear regression model.\n",
    "    It plots observed vs. predicted values and residuals vs. predicted values.\n",
    "    \n",
    "    Args:\n",
    "    * model - fitted OLS model from statsmodels\n",
    "    * y - observed values\n",
    "    '''\n",
    "    fitted_vals = model.predict()\n",
    "    resids = model.resid\n",
    "\n",
    "    fig, ax = plt.subplots(1,2)\n",
    "    \n",
    "    sns.regplot(x=fitted_vals, y=y, lowess=True, ax=ax[0], line_kws={'color': 'red'})\n",
    "    ax[0].set_title('Observed vs. Predicted Values', fontsize=16)\n",
    "    ax[0].set(xlabel='Predicted', ylabel='Observed')\n",
    "\n",
    "    sns.regplot(x=fitted_vals, y=resids, lowess=True, ax=ax[1], line_kws={'color': 'red'})\n",
    "    ax[1].set_title('Residuals vs. Predicted Values', fontsize=16)\n",
    "    ax[1].set(xlabel='Predicted', ylabel='Residuals')\n",
    "    \n",
    "linearity_test(lin_reg, y)  "
   ]
  },
  {
   "cell_type": "markdown",
   "metadata": {},
   "source": [
    "***Question 0.0 - 0.1***\n",
    "\n",
    "Q: Are the features linearly independent of each other? Show this programmatically.\n",
    "\n",
    "A: No, and we can see this based on our graphs.\n",
    "\n",
    "Q: Are the assumptions for linear regression fulfilled?\n",
    "\n",
    "A: No, a linear regression model would have high bias."
   ]
  },
  {
   "cell_type": "code",
   "execution_count": null,
   "metadata": {},
   "outputs": [],
   "source": [
    "y = boston['CRIM']\n",
    "X = boston.drop('CRIM', axis=1)\n",
    "X_train, X_test, y_train, y_test = train_test_split(X, y)\n",
    "from sklearn.linear_model import LinearRegression\n",
    "regressor = LinearRegression()\n",
    "regressor.fit(X_train, y_train)\n",
    "print(regressor.intercept_)\n",
    "print(regressor.coef_)"
   ]
  },
  {
   "cell_type": "code",
   "execution_count": null,
   "metadata": {},
   "outputs": [],
   "source": [
    "y_pred = regressor.predict(X_test)\n",
    "df = pd.DataFrame({'Actual': y_test, 'Predicted': y_pred})\n",
    "df.head()"
   ]
  },
  {
   "cell_type": "code",
   "execution_count": null,
   "metadata": {},
   "outputs": [],
   "source": [
    "from sklearn import metrics\n",
    "print('Mean Absolute Error:', metrics.mean_absolute_error(y_test, y_pred))\n",
    "print('Mean Squared Error:', metrics.mean_squared_error(y_test, y_pred))\n",
    "print('Root Mean Squared Error:', np.sqrt(metrics.mean_squared_error(y_test, y_pred)))"
   ]
  },
  {
   "cell_type": "markdown",
   "metadata": {},
   "source": [
    "***Questions 1.0 - 1.1***\n",
    "\n",
    "Define a multiple linear regression model in Scikit-Learn with all features\n",
    "\n",
    "Define a multiple linear regression model in Scikit-Learn with low correlated features"
   ]
  },
  {
   "cell_type": "code",
   "execution_count": null,
   "metadata": {},
   "outputs": [],
   "source": [
    "y = boston['CRIM']\n",
    "X = boston.copy()\n",
    "\n",
    "y.groupby(X.CHAS).mean()"
   ]
  },
  {
   "cell_type": "code",
   "execution_count": null,
   "metadata": {},
   "outputs": [],
   "source": [
    "import statsmodels.formula.api as smf\n",
    "# encode df.famhist as a numeric via pd.Factor\n",
    "est = smf.ols(formula=\"CRIM ~ CHAS\", data=X).fit()"
   ]
  },
  {
   "cell_type": "code",
   "execution_count": null,
   "metadata": {},
   "outputs": [],
   "source": [
    "from IPython.core.display import HTML\n",
    "def short_summary(est):\n",
    "    return HTML(est.summary().tables[1].as_html())\n",
    "# fit OLS on categorical variables children and occupation\n",
    "est = smf.ols(formula='CRIM ~ C(CHAS)', data=X).fit()\n",
    "#short_summary(est)\n",
    "est.summary()"
   ]
  },
  {
   "cell_type": "markdown",
   "metadata": {},
   "source": [
    "***Question 3.0 - 3.1***\n",
    "\n",
    "Define a multiple linear regression model in statsmodels with all features\n",
    "\n",
    "Define a multiple linear regression model in statsmodels with low correlated features"
   ]
  },
  {
   "cell_type": "code",
   "execution_count": null,
   "metadata": {},
   "outputs": [],
   "source": [
    "y = boston_corr_reduced['CRIM']\n",
    "X = boston_corr_reduced.copy()\n",
    "\n",
    "y.groupby(X.CHAS).mean()\n",
    "est = smf.ols(formula=\"CRIM ~ CHAS\", data=X).fit()\n",
    "short_summary(est)"
   ]
  },
  {
   "cell_type": "code",
   "execution_count": null,
   "metadata": {},
   "outputs": [],
   "source": [
    "est.summary()"
   ]
  },
  {
   "cell_type": "code",
   "execution_count": null,
   "metadata": {},
   "outputs": [],
   "source": [
    "linreg_model.pretty_print_stats()"
   ]
  },
  {
   "cell_type": "markdown",
   "metadata": {},
   "source": [
    "***Question 5.*** \n",
    "\n",
    "Remember that the training error is not a good metric for evaluation how well a model generalizes. That's why you should now compare the results by MSE achieved on the test set. \n",
    "\n",
    "- Which model generalizes the best?\n",
    "- Did you see any significant improvement in generalization by eliminating features that are highly correlated to others?\n",
    "- Was there any considerable speed differences between the runtimes of the model? Did you use GPU or not?\n",
    "\n",
    "The sklearn model is slightly better at fitting a linear model to our data set. With that said, after looking at the distribution of our data, I would not fit this data to a linear model as this would introduce a very high bias and ultimately have a very high error rate.\n",
    "\n",
    "No, this had little to no impact.\n",
    "\n",
    "No, the runtime for both was around 15s."
   ]
  },
  {
   "cell_type": "code",
   "execution_count": null,
   "metadata": {},
   "outputs": [],
   "source": [
    "from sklearn.linear_model import LinearRegression\n",
    "from sklearn.preprocessing import PolynomialFeatures\n",
    "\n",
    "y = boston['CRIM']\n",
    "X = boston.drop('CRIM', axis=1)\n",
    "X_train, X_test, y_train, y_test = train_test_split(X, y)\n",
    "\n",
    "linreg_model = LinearRegressionOwn().fit(X, y)\n",
    "linreg_model_sklearn = LinearRegression().fit(X, y)\n",
    "transformer = PolynomialFeatures(degree=2, include_bias=False)\n",
    "X_with_polynomial =  transformer.fit_transform(X)"
   ]
  },
  {
   "cell_type": "code",
   "execution_count": null,
   "metadata": {},
   "outputs": [],
   "source": [
    "## Comparison of Predictions\n",
    "y_pred_own = linreg_model.predict(X_test)\n",
    "y_pred_sklearn = linreg_model_sklearn.predict(X_test)\n",
    "\n",
    "y_pred_sklearn"
   ]
  },
  {
   "cell_type": "code",
   "execution_count": null,
   "metadata": {},
   "outputs": [],
   "source": [
    "y_pred_sklearn"
   ]
  },
  {
   "cell_type": "code",
   "execution_count": null,
   "metadata": {},
   "outputs": [],
   "source": []
  }
 ],
 "metadata": {
  "kernelspec": {
   "display_name": "Python 3",
   "language": "python",
   "name": "python3"
  },
  "language_info": {
   "codemirror_mode": {
    "name": "ipython",
    "version": 3
   },
   "file_extension": ".py",
   "mimetype": "text/x-python",
   "name": "python",
   "nbconvert_exporter": "python",
   "pygments_lexer": "ipython3",
   "version": "3.7.3"
  },
  "latex_envs": {
   "LaTeX_envs_menu_present": true,
   "autoclose": false,
   "autocomplete": true,
   "bibliofile": "biblio.bib",
   "cite_by": "apalike",
   "current_citInitial": 1,
   "eqLabelWithNumbers": true,
   "eqNumInitial": 1,
   "hotkeys": {
    "equation": "Ctrl-E",
    "itemize": "Ctrl-I"
   },
   "labels_anchors": false,
   "latex_user_defs": false,
   "report_style_numbering": false,
   "user_envs_cfg": false
  },
  "toc": {
   "base_numbering": 1,
   "nav_menu": {},
   "number_sections": true,
   "sideBar": true,
   "skip_h1_title": false,
   "title_cell": "Table of Contents",
   "title_sidebar": "Contents",
   "toc_cell": false,
   "toc_position": {
    "height": "calc(100% - 180px)",
    "left": "10px",
    "top": "150px",
    "width": "370.594px"
   },
   "toc_section_display": true,
   "toc_window_display": true
  },
  "varInspector": {
   "cols": {
    "lenName": 16,
    "lenType": 16,
    "lenVar": 40
   },
   "kernels_config": {
    "python": {
     "delete_cmd_postfix": "",
     "delete_cmd_prefix": "del ",
     "library": "var_list.py",
     "varRefreshCmd": "print(var_dic_list())"
    },
    "r": {
     "delete_cmd_postfix": ") ",
     "delete_cmd_prefix": "rm(",
     "library": "var_list.r",
     "varRefreshCmd": "cat(var_dic_list()) "
    }
   },
   "position": {
    "height": "616px",
    "left": "1115px",
    "right": "20px",
    "top": "14px",
    "width": "627px"
   },
   "types_to_exclude": [
    "module",
    "function",
    "builtin_function_or_method",
    "instance",
    "_Feature"
   ],
   "window_display": false
  }
 },
 "nbformat": 4,
 "nbformat_minor": 2
}
