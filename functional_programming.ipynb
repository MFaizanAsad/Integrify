{
 "cells": [
  {
   "cell_type": "markdown",
   "metadata": {
    "ExecuteTime": {
     "end_time": "2019-07-04T09:11:16.410156Z",
     "start_time": "2019-07-04T09:11:16.370228Z"
    }
   },
   "source": [
    "# Write functional programming code to apply a list of functions on a list of integers. \n",
    "# Explain how it works as well and how it relates to functional programing."
   ]
  },
  {
   "cell_type": "markdown",
   "metadata": {},
   "source": [
    "## Reduce takes a function and a collection of items. It returns a value that is created by combining the items.\n",
    "\n"
   ]
  },
  {
   "cell_type": "code",
   "execution_count": 4,
   "metadata": {
    "ExecuteTime": {
     "end_time": "2019-07-08T11:58:01.263653Z",
     "start_time": "2019-07-08T11:58:01.256659Z"
    }
   },
   "outputs": [
    {
     "name": "stdout",
     "output_type": "stream",
     "text": [
      "10\n"
     ]
    }
   ],
   "source": [
    "\n",
    "from functools import reduce #import reduce form functools library\n",
    "numbers = (1, 2, 3, 4)\n",
    "result = reduce(lambda x,y:x+y, numbers) \n",
    "print((result))"
   ]
  },
  {
   "cell_type": "code",
   "execution_count": 5,
   "metadata": {
    "ExecuteTime": {
     "end_time": "2019-07-08T11:58:12.350935Z",
     "start_time": "2019-07-08T11:58:12.338942Z"
    }
   },
   "outputs": [
    {
     "name": "stdout",
     "output_type": "stream",
     "text": [
      "[[2, 4, 6, 8, 10], [1, 3, 5, 7, 9]]\n"
     ]
    }
   ],
   "source": [
    "values = [1, 2, 3, 4, 5, 6, 7, 8, 9, 10]\n",
    "\n",
    "# Note: We convert the returned filter object to\n",
    "# a list data structure.\n",
    "even = (filter(lambda x: x % 2 == 0, values))\n",
    "odd = (filter(lambda x: x % 2 == 1, values))\n",
    "list_func = [even, odd]\n",
    "\n",
    "result =[list(value) for value in list_func]\n",
    "print(result)\n"
   ]
  },
  {
   "cell_type": "markdown",
   "metadata": {
    "ExecuteTime": {
     "end_time": "2019-07-08T10:03:53.966588Z",
     "start_time": "2019-07-08T10:03:53.959607Z"
    }
   },
   "source": [
    "The filter function takes an iterable and filters out all the things you don’t want in that iterable.Normally filter takes a function and a list. It applies the function to each item in the list and if that function returns True, it does nothing. If it returns False, it removes that item from the list."
   ]
  },
  {
   "cell_type": "code",
   "execution_count": 63,
   "metadata": {
    "ExecuteTime": {
     "end_time": "2019-07-08T10:50:23.840901Z",
     "start_time": "2019-07-08T10:50:23.834955Z"
    }
   },
   "outputs": [
    {
     "data": {
      "text/plain": [
       "[[2, 4, 6, 8, 10, 12, 14, 16, 18, 20],\n",
       " [1, 4, 9, 16, 25, 36, 49, 64, 81, 100],\n",
       " [1.0, 1.0, 1.0, 1.0, 1.0, 1.0, 1.0, 1.0, 1.0, 1.0]]"
      ]
     },
     "execution_count": 63,
     "metadata": {},
     "output_type": "execute_result"
    }
   ],
   "source": [
    "from functools import reduce\n",
    "sum_value=lambda x,y:x+y\n",
    "mul=lambda x,y:x*y\n",
    "divide=lambda x,y:x/y\n",
    "list_fn=[sum_value,mul,divide]\n",
    "[list(map(f,values,values)) for f in list_fn]\n"
   ]
  },
  {
   "cell_type": "markdown",
   "metadata": {},
   "source": [
    "An iterable is anything you can iterate over. The map function lets us apply a function to every item in an iterable. Typically we want to apply a function to every item in a list, but know that it’s possible for most iterables. Map takes 2 inputs, the function to apply and the iterable object.\n",
    "\n",
    "A lambda expression is a one line function.\n",
    "anything you could do with map or filter, you could do with a list comprehension. This is the part where we’ll learn about them.\n",
    "\n",
    "A list comprehension is a way to generate lists in Python."
   ]
  },
  {
   "cell_type": "markdown",
   "metadata": {
    "ExecuteTime": {
     "end_time": "2019-07-08T08:21:37.081461Z",
     "start_time": "2019-07-08T08:21:37.078469Z"
    }
   },
   "source": [
    "# Find the greatest common divisor of a list of numbers using Reduce. Explain how the code works as well. Explain how it works as well and how it relates to functional programing."
   ]
  },
  {
   "cell_type": "code",
   "execution_count": null,
   "metadata": {
    "ExecuteTime": {
     "end_time": "2019-07-08T08:21:43.331988Z",
     "start_time": "2019-07-08T08:21:43.327999Z"
    }
   },
   "outputs": [],
   "source": [
    "num=(20,30,40,5)\n",
    "def gcd(a,b):\n",
    "    return a if not b else gcd(b, a%b)\n",
    "res=reduce(lambda m,n: m if not n else gcd(n,m%n),num)"
   ]
  },
  {
   "cell_type": "markdown",
   "metadata": {},
   "source": [
    "Reduce is a function that turns an iterable into one thing. Typically you perform a computation on a list to reduce it down to one number. Reduce is a function that turns an iterable into one thing. Typically you perform a computation on a list to reduce it down to one number. "
   ]
  },
  {
   "cell_type": "code",
   "execution_count": null,
   "metadata": {
    "ExecuteTime": {
     "end_time": "2019-07-08T07:06:54.099396Z",
     "start_time": "2019-07-08T07:06:54.095382Z"
    }
   },
   "outputs": [],
   "source": [
    "print(res)"
   ]
  },
  {
   "cell_type": "markdown",
   "metadata": {
    "ExecuteTime": {
     "end_time": "2019-07-05T08:44:16.538865Z",
     "start_time": "2019-07-05T08:44:16.534876Z"
    }
   },
   "source": [
    "# Write a function groupby_demonstrator that takes as a list of tuples as an input (arg data) as well as boolean argument (verify_sorted). If verify_sorted is true, the list is sorted by the first key (0-th tuple element), otherwise it is not sorted."
   ]
  },
  {
   "cell_type": "code",
   "execution_count": 59,
   "metadata": {
    "ExecuteTime": {
     "end_time": "2019-07-08T10:11:51.242311Z",
     "start_time": "2019-07-08T10:11:51.237287Z"
    }
   },
   "outputs": [],
   "source": [
    "from itertools import groupby\n",
    "from collections import defaultdict,OrderedDict\n",
    "\n",
    "\n",
    "def groupby_demonstrator(data,verify_sorted=True):\n",
    "    if verify_sorted:\n",
    "        sorted_value=sorted(data,key=lambda x:x[0])\n",
    "        groupby1=groupby(sorted_value, lambda item:item[0])\n",
    "        for key,group in groupby1:\n",
    "            print(key,list(group))\n",
    "            print()\n",
    "    else:\n",
    "        return 0\n",
    "        \n",
    " \n",
    "    \n",
    "    "
   ]
  },
  {
   "cell_type": "code",
   "execution_count": 60,
   "metadata": {
    "ExecuteTime": {
     "end_time": "2019-07-08T10:11:51.825366Z",
     "start_time": "2019-07-08T10:11:51.821278Z"
    }
   },
   "outputs": [],
   "source": [
    "things = [(\"animal\", \"bear\"),(\"vehicle\",\"suv\"), (\"animal\", \"duck\"), (\"plant\", \"cactus\"), (\"vehicle\", \"speed boat\"), (\"vehicle\", \"school bus\"),(\"vehicle\", \"car\")]"
   ]
  },
  {
   "cell_type": "code",
   "execution_count": 61,
   "metadata": {
    "ExecuteTime": {
     "end_time": "2019-07-08T10:11:52.308555Z",
     "start_time": "2019-07-08T10:11:52.304528Z"
    }
   },
   "outputs": [
    {
     "name": "stdout",
     "output_type": "stream",
     "text": [
      "animal [('animal', 'bear'), ('animal', 'duck')]\n",
      "\n",
      "plant [('plant', 'cactus')]\n",
      "\n",
      "vehicle [('vehicle', 'suv'), ('vehicle', 'speed boat'), ('vehicle', 'school bus'), ('vehicle', 'car')]\n",
      "\n",
      "None\n"
     ]
    }
   ],
   "source": [
    "print(groupby_demonstrator(things))"
   ]
  },
  {
   "cell_type": "markdown",
   "metadata": {},
   "source": [
    " ## Add a decorator ‘ensure_sourted_grouper’ that overrides the grouping, by making sure that the list is sorted when an argument ‘verify_sorted’ = True is passed. Otherwise, “You didn’t enforce the order” is printed to the console."
   ]
  },
  {
   "cell_type": "code",
   "execution_count": 7,
   "metadata": {
    "ExecuteTime": {
     "end_time": "2019-07-08T12:00:45.325961Z",
     "start_time": "2019-07-08T12:00:45.300977Z"
    }
   },
   "outputs": [
    {
     "ename": "NameError",
     "evalue": "name 'things' is not defined",
     "output_type": "error",
     "traceback": [
      "\u001b[1;31m---------------------------------------------------------------------------\u001b[0m",
      "\u001b[1;31mNameError\u001b[0m                                 Traceback (most recent call last)",
      "\u001b[1;32m<ipython-input-7-55ae885f0ec1>\u001b[0m in \u001b[0;36m<module>\u001b[1;34m\u001b[0m\n\u001b[0;32m     21\u001b[0m         \u001b[0mprint\u001b[0m\u001b[1;33m(\u001b[0m\u001b[1;33m)\u001b[0m\u001b[1;33m\u001b[0m\u001b[1;33m\u001b[0m\u001b[0m\n\u001b[0;32m     22\u001b[0m \u001b[1;33m\u001b[0m\u001b[0m\n\u001b[1;32m---> 23\u001b[1;33m \u001b[0mgroupby_demonstrator1\u001b[0m\u001b[1;33m(\u001b[0m\u001b[0mthings\u001b[0m\u001b[1;33m,\u001b[0m \u001b[0mverify_sorted\u001b[0m\u001b[1;33m=\u001b[0m\u001b[1;32mTrue\u001b[0m\u001b[1;33m)\u001b[0m\u001b[1;33m\u001b[0m\u001b[1;33m\u001b[0m\u001b[0m\n\u001b[0m",
      "\u001b[1;31mNameError\u001b[0m: name 'things' is not defined"
     ]
    }
   ],
   "source": [
    "from itertools import groupby\n",
    "def ensure_sourted_grouper(fun):\n",
    "    def wrapper_calling_fun(*args,**kwargs):\n",
    "        print(kwargs)\n",
    "        print(\"hello\")\n",
    "        if kwargs.get(\"verify_sorted\")==True:\n",
    "            print(\"this is true\")\n",
    "            \n",
    "            sorted_value=sorted(*args,key=lambda x:x[0])\n",
    "            fun(sorted_value,**kwargs)\n",
    "        else :\n",
    "            print(kwargs.get(\"verify_sorted\"))\n",
    "    return wrapper_calling_fun\n",
    "\n",
    "@ensure_sourted_grouper\n",
    "def groupby_demonstrator1(data,**verify_sorted):\n",
    "    mapp = [] \n",
    "    groupby1=groupby(data, lambda item:item[0])\n",
    "    for key,group in groupby1:\n",
    "        print(key,list(group))\n",
    "        print()\n",
    "        \n",
    "groupby_demonstrator1(things, verify_sorted=True)"
   ]
  },
  {
   "cell_type": "markdown",
   "metadata": {
    "ExecuteTime": {
     "end_time": "2019-07-08T09:03:22.969690Z",
     "start_time": "2019-07-08T09:03:22.965665Z"
    }
   },
   "source": [
    "Python is a very versatile, high-level programming language. \n",
    "It has a generous standard library, support for multiple programming paradigms,\n",
    "and a lot of internal transparency. \n"
   ]
  },
  {
   "cell_type": "markdown",
   "metadata": {},
   "source": [
    "Functional programming, or FP, is a coding paradigm in which the building blocks are immutable values and “pure functions” that share no state with other functions. Every time a pure function has a given input, it will return the same output – without mutating data or causing side effects. In this sense, pure functions are often compared to mathematical operations. For example, 3 plus 4 will always equal 7, regardless of what other mathematical operations are being done, or how many times you’ve added things together before.\n",
    "\n",
    "Although functional programming has existed since the 1950s, and is implemented by a long lineage of languages, it doesn’t fully describe a programming language. Clojure, Common Lisp, Haskell, and OCaml are all functional-first languages with different stances on other programming language concepts, like the type system and strict or lazy evaluation. Most of them also support side effects such as writing to and reading from files in some way or another – usually all very carefully marked as impure.\n",
    "\n",
    "Functional programming can have a reputation for being abstruse, and for favoring elegance or concision over practicality. Large companies rarely rely on functional-first languages at scale, or at least do so on a smaller level than other languages like C++, Java, or Python. FP, however, is really just a framework for thinking about logical flows, with its upsides and downsides, and it is composable with other paradigms."
   ]
  },
  {
   "cell_type": "code",
   "execution_count": null,
   "metadata": {},
   "outputs": [],
   "source": []
  }
 ],
 "metadata": {
  "kernelspec": {
   "display_name": "Python 3",
   "language": "python",
   "name": "python3"
  },
  "language_info": {
   "codemirror_mode": {
    "name": "ipython",
    "version": 3
   },
   "file_extension": ".py",
   "mimetype": "text/x-python",
   "name": "python",
   "nbconvert_exporter": "python",
   "pygments_lexer": "ipython3",
   "version": "3.7.3"
  },
  "toc": {
   "base_numbering": 1,
   "nav_menu": {},
   "number_sections": false,
   "sideBar": false,
   "skip_h1_title": false,
   "title_cell": "Table of Contents",
   "title_sidebar": "Contents",
   "toc_cell": false,
   "toc_position": {},
   "toc_section_display": false,
   "toc_window_display": false
  },
  "varInspector": {
   "cols": {
    "lenName": 16,
    "lenType": 16,
    "lenVar": 40
   },
   "kernels_config": {
    "python": {
     "delete_cmd_postfix": "",
     "delete_cmd_prefix": "del ",
     "library": "var_list.py",
     "varRefreshCmd": "print(var_dic_list())"
    },
    "r": {
     "delete_cmd_postfix": ") ",
     "delete_cmd_prefix": "rm(",
     "library": "var_list.r",
     "varRefreshCmd": "cat(var_dic_list()) "
    }
   },
   "types_to_exclude": [
    "module",
    "function",
    "builtin_function_or_method",
    "instance",
    "_Feature"
   ],
   "window_display": false
  }
 },
 "nbformat": 4,
 "nbformat_minor": 2
}
